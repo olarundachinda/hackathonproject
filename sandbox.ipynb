{
 "cells": [
  {
   "cell_type": "code",
   "execution_count": null,
   "id": "19e74ec7",
   "metadata": {},
   "outputs": [],
   "source": [
    "# pip install roboflow --user"
   ]
  },
  {
   "cell_type": "code",
   "execution_count": null,
   "id": "16fea379",
   "metadata": {},
   "outputs": [
    {
     "name": "stdout",
     "output_type": "stream",
     "text": [
      "loading Roboflow workspace...\n",
      "loading Roboflow project...\n"
     ]
    }
   ],
   "source": [
    "# %pip install roboflow\n",
    "\n",
    "import os\n",
    "from roboflow import Roboflow\n",
    "from dotenv import load_dotenv\n",
    "\n",
    "load_dotenv(dotenv_path=\"enter path\")\n",
    "apikey = os.environ.get('roboflow_apikey')\n",
    "\n",
    "rf = Roboflow(api_key=apikey)\n",
    "project = rf.workspace(\"handwash-x8aqn\").project(\"handwash_dataset\")\n",
    "version = project.version(7)\n",
    "dataset = version.download(\"yolov8\")"
   ]
  },
  {
   "cell_type": "code",
   "execution_count": 2,
   "id": "bc7a6aa6",
   "metadata": {},
   "outputs": [],
   "source": [
    "# %pip install ultralytics\n",
    "from ultralytics import YOLO"
   ]
  },
  {
   "cell_type": "code",
   "execution_count": 3,
   "id": "288db5ab",
   "metadata": {},
   "outputs": [
    {
     "name": "stdout",
     "output_type": "stream",
     "text": [
      "C:\\Users\\olach\\handwash_dataset-7\n"
     ]
    }
   ],
   "source": [
    "print(dataset.location)\n",
    "dataset_path = dataset.location"
   ]
  },
  {
   "cell_type": "code",
   "execution_count": null,
   "id": "6e3c8333",
   "metadata": {},
   "outputs": [],
   "source": [
    "model = YOLO('enter yolo path')  # You can change to yolov8s.pt, yolov8m.pt, etc."
   ]
  },
  {
   "cell_type": "code",
   "execution_count": null,
   "id": "8dcdbf0e",
   "metadata": {},
   "outputs": [],
   "source": [
    "model.train(data=f\"{dataset_path}/data.yaml\", epochs=2, imgsz=320)"
   ]
  },
  {
   "cell_type": "code",
   "execution_count": null,
   "id": "f8f81cbf",
   "metadata": {},
   "outputs": [],
   "source": [
    "results = model.track(source=0, show=True, tracker=\"botsort.yaml\")"
   ]
  }
 ],
 "metadata": {
  "kernelspec": {
   "display_name": "Python 3 (ipykernel)",
   "language": "python",
   "name": "python3"
  },
  "language_info": {
   "codemirror_mode": {
    "name": "ipython",
    "version": 3
   },
   "file_extension": ".py",
   "mimetype": "text/x-python",
   "name": "python",
   "nbconvert_exporter": "python",
   "pygments_lexer": "ipython3",
   "version": "3.13.1"
  }
 },
 "nbformat": 4,
 "nbformat_minor": 5
}
