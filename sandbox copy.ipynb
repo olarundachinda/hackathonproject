{
 "cells": [
  {
   "cell_type": "code",
   "execution_count": null,
   "id": "16fea379",
   "metadata": {},
   "outputs": [],
   "source": [
    "%pip install roboflow\n",
    "\n",
    "from roboflow import Roboflow\n",
    "rf = Roboflow(api_key=\"Ia6eFHW4ziHdMdViJIxS\")\n",
    "project = rf.workspace(\"handwash-x8aqn\").project(\"handwash_dataset\")\n",
    "version = project.version(7)\n",
    "dataset = version.download(\"yolov8\")\n"
   ]
  },
  {
   "cell_type": "code",
   "execution_count": null,
   "id": "bc7a6aa6",
   "metadata": {},
   "outputs": [],
   "source": [
    "%pip install ultralytics\n",
    "from ultralytics import YOLO"
   ]
  },
  {
   "cell_type": "code",
   "execution_count": null,
   "id": "288db5ab",
   "metadata": {},
   "outputs": [],
   "source": [
    "print(dataset.location)\n",
    "dataset_path = dataset.location"
   ]
  },
  {
   "cell_type": "code",
   "execution_count": null,
   "id": "6e3c8333",
   "metadata": {},
   "outputs": [],
   "source": [
    "model = YOLO('yolov8n.pt')  # You can change to yolov8s.pt, yolov8m.pt, etc."
   ]
  },
  {
   "cell_type": "code",
   "execution_count": null,
   "id": "8dcdbf0e",
   "metadata": {},
   "outputs": [],
   "source": [
    "model.train(data=f\"{dataset_path}/data.yaml\", epochs=10, imgsz=320)\n"
   ]
  },
  {
   "cell_type": "code",
   "execution_count": null,
   "id": "f8f81cbf",
   "metadata": {},
   "outputs": [],
   "source": [
    "results = model.track(source=1, show=True, tracker=\"botsort.yaml\")\n"
   ]
  }
 ],
 "metadata": {
  "kernelspec": {
   "display_name": "an_env",
   "language": "python",
   "name": "python3"
  },
  "language_info": {
   "codemirror_mode": {
    "name": "ipython",
    "version": 3
   },
   "file_extension": ".py",
   "mimetype": "text/x-python",
   "name": "python",
   "nbconvert_exporter": "python",
   "pygments_lexer": "ipython3",
   "version": "3.13.2"
  }
 },
 "nbformat": 4,
 "nbformat_minor": 5
}
